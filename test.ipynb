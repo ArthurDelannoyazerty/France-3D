{
 "cells": [
  {
   "cell_type": "code",
   "execution_count": 1,
   "metadata": {},
   "outputs": [],
   "source": [
    "import geopandas as gpd"
   ]
  },
  {
   "cell_type": "code",
   "execution_count": 3,
   "metadata": {},
   "outputs": [
    {
     "data": {
      "text/html": [
       "<div>\n",
       "<style scoped>\n",
       "    .dataframe tbody tr th:only-of-type {\n",
       "        vertical-align: middle;\n",
       "    }\n",
       "\n",
       "    .dataframe tbody tr th {\n",
       "        vertical-align: top;\n",
       "    }\n",
       "\n",
       "    .dataframe thead th {\n",
       "        text-align: right;\n",
       "    }\n",
       "</style>\n",
       "<table border=\"1\" class=\"dataframe\">\n",
       "  <thead>\n",
       "    <tr style=\"text-align: right;\">\n",
       "      <th></th>\n",
       "      <th>nom_pkk</th>\n",
       "      <th>url_telech</th>\n",
       "      <th>geometry</th>\n",
       "    </tr>\n",
       "  </thead>\n",
       "  <tbody>\n",
       "    <tr>\n",
       "      <th>0</th>\n",
       "      <td>LHD_FXX_0230_6852_PTS_C_LAMB93_IGN69.copc.laz</td>\n",
       "      <td>https://storage.sbg.cloud.ovh.net/v1/AUTH_6323...</td>\n",
       "      <td>POLYGON ((230000 6851000, 230000 6852000, 2310...</td>\n",
       "    </tr>\n",
       "    <tr>\n",
       "      <th>1</th>\n",
       "      <td>LHD_FXX_0232_6870_PTS_C_LAMB93_IGN69.copc.laz</td>\n",
       "      <td>https://storage.sbg.cloud.ovh.net/v1/AUTH_6323...</td>\n",
       "      <td>POLYGON ((232000 6869000, 232000 6870000, 2330...</td>\n",
       "    </tr>\n",
       "    <tr>\n",
       "      <th>2</th>\n",
       "      <td>LHD_FXX_0187_6874_PTS_C_LAMB93_IGN69.copc.laz</td>\n",
       "      <td>https://storage.sbg.cloud.ovh.net/v1/AUTH_6323...</td>\n",
       "      <td>POLYGON ((187000 6873000, 187000 6874000, 1880...</td>\n",
       "    </tr>\n",
       "    <tr>\n",
       "      <th>3</th>\n",
       "      <td>LHD_FXX_0196_6839_PTS_C_LAMB93_IGN69.copc.laz</td>\n",
       "      <td>https://storage.sbg.cloud.ovh.net/v1/AUTH_6323...</td>\n",
       "      <td>POLYGON ((196000 6838000, 196000 6839000, 1970...</td>\n",
       "    </tr>\n",
       "    <tr>\n",
       "      <th>4</th>\n",
       "      <td>LHD_FXX_0229_6846_PTS_C_LAMB93_IGN69.copc.laz</td>\n",
       "      <td>https://storage.sbg.cloud.ovh.net/v1/AUTH_6323...</td>\n",
       "      <td>POLYGON ((229000 6845000, 229000 6846000, 2300...</td>\n",
       "    </tr>\n",
       "    <tr>\n",
       "      <th>...</th>\n",
       "      <td>...</td>\n",
       "      <td>...</td>\n",
       "      <td>...</td>\n",
       "    </tr>\n",
       "    <tr>\n",
       "      <th>315193</th>\n",
       "      <td>LHD_FXX_0429_6326_PTS_C_LAMB93_IGN69.copc.laz</td>\n",
       "      <td>https://storage.sbg.cloud.ovh.net/v1/AUTH_6323...</td>\n",
       "      <td>POLYGON ((429000 6325000, 429000 6326000, 4300...</td>\n",
       "    </tr>\n",
       "    <tr>\n",
       "      <th>315194</th>\n",
       "      <td>LHD_FXX_0413_6306_PTS_C_LAMB93_IGN69.copc.laz</td>\n",
       "      <td>https://storage.sbg.cloud.ovh.net/v1/AUTH_6323...</td>\n",
       "      <td>POLYGON ((413000 6305000, 413000 6306000, 4140...</td>\n",
       "    </tr>\n",
       "    <tr>\n",
       "      <th>315195</th>\n",
       "      <td>LHD_FXX_0433_6301_PTS_C_LAMB93_IGN69.copc.laz</td>\n",
       "      <td>https://storage.sbg.cloud.ovh.net/v1/AUTH_6323...</td>\n",
       "      <td>POLYGON ((433000 6300000, 433000 6301000, 4340...</td>\n",
       "    </tr>\n",
       "    <tr>\n",
       "      <th>315196</th>\n",
       "      <td>LHD_FXX_0430_6326_PTS_C_LAMB93_IGN69.copc.laz</td>\n",
       "      <td>https://storage.sbg.cloud.ovh.net/v1/AUTH_6323...</td>\n",
       "      <td>POLYGON ((430000 6325000, 430000 6326000, 4310...</td>\n",
       "    </tr>\n",
       "    <tr>\n",
       "      <th>315197</th>\n",
       "      <td>LHD_FXX_0396_6291_PTS_C_LAMB93_IGN69.copc.laz</td>\n",
       "      <td>https://storage.sbg.cloud.ovh.net/v1/AUTH_6323...</td>\n",
       "      <td>POLYGON ((396000 6290000, 396000 6291000, 3970...</td>\n",
       "    </tr>\n",
       "  </tbody>\n",
       "</table>\n",
       "<p>315198 rows × 3 columns</p>\n",
       "</div>"
      ],
      "text/plain": [
       "                                              nom_pkk  \\\n",
       "0       LHD_FXX_0230_6852_PTS_C_LAMB93_IGN69.copc.laz   \n",
       "1       LHD_FXX_0232_6870_PTS_C_LAMB93_IGN69.copc.laz   \n",
       "2       LHD_FXX_0187_6874_PTS_C_LAMB93_IGN69.copc.laz   \n",
       "3       LHD_FXX_0196_6839_PTS_C_LAMB93_IGN69.copc.laz   \n",
       "4       LHD_FXX_0229_6846_PTS_C_LAMB93_IGN69.copc.laz   \n",
       "...                                               ...   \n",
       "315193  LHD_FXX_0429_6326_PTS_C_LAMB93_IGN69.copc.laz   \n",
       "315194  LHD_FXX_0413_6306_PTS_C_LAMB93_IGN69.copc.laz   \n",
       "315195  LHD_FXX_0433_6301_PTS_C_LAMB93_IGN69.copc.laz   \n",
       "315196  LHD_FXX_0430_6326_PTS_C_LAMB93_IGN69.copc.laz   \n",
       "315197  LHD_FXX_0396_6291_PTS_C_LAMB93_IGN69.copc.laz   \n",
       "\n",
       "                                               url_telech  \\\n",
       "0       https://storage.sbg.cloud.ovh.net/v1/AUTH_6323...   \n",
       "1       https://storage.sbg.cloud.ovh.net/v1/AUTH_6323...   \n",
       "2       https://storage.sbg.cloud.ovh.net/v1/AUTH_6323...   \n",
       "3       https://storage.sbg.cloud.ovh.net/v1/AUTH_6323...   \n",
       "4       https://storage.sbg.cloud.ovh.net/v1/AUTH_6323...   \n",
       "...                                                   ...   \n",
       "315193  https://storage.sbg.cloud.ovh.net/v1/AUTH_6323...   \n",
       "315194  https://storage.sbg.cloud.ovh.net/v1/AUTH_6323...   \n",
       "315195  https://storage.sbg.cloud.ovh.net/v1/AUTH_6323...   \n",
       "315196  https://storage.sbg.cloud.ovh.net/v1/AUTH_6323...   \n",
       "315197  https://storage.sbg.cloud.ovh.net/v1/AUTH_6323...   \n",
       "\n",
       "                                                 geometry  \n",
       "0       POLYGON ((230000 6851000, 230000 6852000, 2310...  \n",
       "1       POLYGON ((232000 6869000, 232000 6870000, 2330...  \n",
       "2       POLYGON ((187000 6873000, 187000 6874000, 1880...  \n",
       "3       POLYGON ((196000 6838000, 196000 6839000, 1970...  \n",
       "4       POLYGON ((229000 6845000, 229000 6846000, 2300...  \n",
       "...                                                   ...  \n",
       "315193  POLYGON ((429000 6325000, 429000 6326000, 4300...  \n",
       "315194  POLYGON ((413000 6305000, 413000 6306000, 4140...  \n",
       "315195  POLYGON ((433000 6300000, 433000 6301000, 4340...  \n",
       "315196  POLYGON ((430000 6325000, 430000 6326000, 4310...  \n",
       "315197  POLYGON ((396000 6290000, 396000 6291000, 3970...  \n",
       "\n",
       "[315198 rows x 3 columns]"
      ]
     },
     "execution_count": 3,
     "metadata": {},
     "output_type": "execute_result"
    }
   ],
   "source": [
    "shp_file = 'sandbox/data_grille/TA_diff_pkk_lidarhd_classe.shp'\n",
    "shp_df = gpd.read_file(shp_file, engine=\"pyogrio\")\n",
    "shp_df"
   ]
  },
  {
   "cell_type": "code",
   "execution_count": 11,
   "metadata": {},
   "outputs": [
    {
     "data": {
      "text/plain": [
       "'https://storage.sbg.cloud.ovh.net/v1/AUTH_63234f509d6048bca3c9fd7928720ca1/ppk-lidar/BE/LHD_FXX_0188_6861_PTS_C_LAMB93_IGN69.copc.laz'"
      ]
     },
     "execution_count": 11,
     "metadata": {},
     "output_type": "execute_result"
    }
   ],
   "source": [
    "url_tile = shp_df.iloc[100].url_telech\n",
    "url_tile"
   ]
  }
 ],
 "metadata": {
  "kernelspec": {
   "display_name": ".venv",
   "language": "python",
   "name": "python3"
  },
  "language_info": {
   "codemirror_mode": {
    "name": "ipython",
    "version": 3
   },
   "file_extension": ".py",
   "mimetype": "text/x-python",
   "name": "python",
   "nbconvert_exporter": "python",
   "pygments_lexer": "ipython3",
   "version": "3.12.8"
  }
 },
 "nbformat": 4,
 "nbformat_minor": 2
}
