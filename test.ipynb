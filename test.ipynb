{
 "cells": [
  {
   "cell_type": "code",
   "execution_count": 14,
   "metadata": {},
   "outputs": [],
   "source": [
    "import geopandas as gpd\n",
    "import wget"
   ]
  },
  {
   "cell_type": "code",
   "execution_count": 12,
   "metadata": {},
   "outputs": [
    {
     "data": {
      "text/html": [
       "<div>\n",
       "<style scoped>\n",
       "    .dataframe tbody tr th:only-of-type {\n",
       "        vertical-align: middle;\n",
       "    }\n",
       "\n",
       "    .dataframe tbody tr th {\n",
       "        vertical-align: top;\n",
       "    }\n",
       "\n",
       "    .dataframe thead th {\n",
       "        text-align: right;\n",
       "    }\n",
       "</style>\n",
       "<table border=\"1\" class=\"dataframe\">\n",
       "  <thead>\n",
       "    <tr style=\"text-align: right;\">\n",
       "      <th></th>\n",
       "      <th>nom_pkk</th>\n",
       "      <th>url_telech</th>\n",
       "      <th>geometry</th>\n",
       "    </tr>\n",
       "  </thead>\n",
       "  <tbody>\n",
       "    <tr>\n",
       "      <th>0</th>\n",
       "      <td>LHD_FXX_0230_6852_PTS_C_LAMB93_IGN69.copc.laz</td>\n",
       "      <td>https://storage.sbg.cloud.ovh.net/v1/AUTH_6323...</td>\n",
       "      <td>POLYGON ((230000 6851000, 230000 6852000, 2310...</td>\n",
       "    </tr>\n",
       "    <tr>\n",
       "      <th>1</th>\n",
       "      <td>LHD_FXX_0232_6870_PTS_C_LAMB93_IGN69.copc.laz</td>\n",
       "      <td>https://storage.sbg.cloud.ovh.net/v1/AUTH_6323...</td>\n",
       "      <td>POLYGON ((232000 6869000, 232000 6870000, 2330...</td>\n",
       "    </tr>\n",
       "    <tr>\n",
       "      <th>2</th>\n",
       "      <td>LHD_FXX_0187_6874_PTS_C_LAMB93_IGN69.copc.laz</td>\n",
       "      <td>https://storage.sbg.cloud.ovh.net/v1/AUTH_6323...</td>\n",
       "      <td>POLYGON ((187000 6873000, 187000 6874000, 1880...</td>\n",
       "    </tr>\n",
       "    <tr>\n",
       "      <th>3</th>\n",
       "      <td>LHD_FXX_0196_6839_PTS_C_LAMB93_IGN69.copc.laz</td>\n",
       "      <td>https://storage.sbg.cloud.ovh.net/v1/AUTH_6323...</td>\n",
       "      <td>POLYGON ((196000 6838000, 196000 6839000, 1970...</td>\n",
       "    </tr>\n",
       "    <tr>\n",
       "      <th>4</th>\n",
       "      <td>LHD_FXX_0229_6846_PTS_C_LAMB93_IGN69.copc.laz</td>\n",
       "      <td>https://storage.sbg.cloud.ovh.net/v1/AUTH_6323...</td>\n",
       "      <td>POLYGON ((229000 6845000, 229000 6846000, 2300...</td>\n",
       "    </tr>\n",
       "  </tbody>\n",
       "</table>\n",
       "</div>"
      ],
      "text/plain": [
       "                                         nom_pkk  \\\n",
       "0  LHD_FXX_0230_6852_PTS_C_LAMB93_IGN69.copc.laz   \n",
       "1  LHD_FXX_0232_6870_PTS_C_LAMB93_IGN69.copc.laz   \n",
       "2  LHD_FXX_0187_6874_PTS_C_LAMB93_IGN69.copc.laz   \n",
       "3  LHD_FXX_0196_6839_PTS_C_LAMB93_IGN69.copc.laz   \n",
       "4  LHD_FXX_0229_6846_PTS_C_LAMB93_IGN69.copc.laz   \n",
       "\n",
       "                                          url_telech  \\\n",
       "0  https://storage.sbg.cloud.ovh.net/v1/AUTH_6323...   \n",
       "1  https://storage.sbg.cloud.ovh.net/v1/AUTH_6323...   \n",
       "2  https://storage.sbg.cloud.ovh.net/v1/AUTH_6323...   \n",
       "3  https://storage.sbg.cloud.ovh.net/v1/AUTH_6323...   \n",
       "4  https://storage.sbg.cloud.ovh.net/v1/AUTH_6323...   \n",
       "\n",
       "                                            geometry  \n",
       "0  POLYGON ((230000 6851000, 230000 6852000, 2310...  \n",
       "1  POLYGON ((232000 6869000, 232000 6870000, 2330...  \n",
       "2  POLYGON ((187000 6873000, 187000 6874000, 1880...  \n",
       "3  POLYGON ((196000 6838000, 196000 6839000, 1970...  \n",
       "4  POLYGON ((229000 6845000, 229000 6846000, 2300...  "
      ]
     },
     "execution_count": 12,
     "metadata": {},
     "output_type": "execute_result"
    }
   ],
   "source": [
    "shp_file = 'sandbox/data_grille/TA_diff_pkk_lidarhd_classe.shp'\n",
    "shp_df = gpd.read_file(shp_file, engine=\"pyogrio\")\n",
    "shp_df.head()"
   ]
  },
  {
   "cell_type": "code",
   "execution_count": 11,
   "metadata": {},
   "outputs": [
    {
     "data": {
      "text/plain": [
       "'https://storage.sbg.cloud.ovh.net/v1/AUTH_63234f509d6048bca3c9fd7928720ca1/ppk-lidar/BE/LHD_FXX_0188_6861_PTS_C_LAMB93_IGN69.copc.laz'"
      ]
     },
     "execution_count": 11,
     "metadata": {},
     "output_type": "execute_result"
    }
   ],
   "source": [
    "url_tile = shp_df.iloc[100].url_telech\n",
    "url_tile"
   ]
  },
  {
   "cell_type": "code",
   "execution_count": 1,
   "metadata": {},
   "outputs": [],
   "source": [
    "from download_lidar_ign_tiles_db import open_laz"
   ]
  },
  {
   "cell_type": "code",
   "execution_count": 2,
   "metadata": {},
   "outputs": [
    {
     "ename": "AttributeError",
     "evalue": "LasData object has no attribute 'point'",
     "output_type": "error",
     "traceback": [
      "\u001b[1;31m---------------------------------------------------------------------------\u001b[0m",
      "\u001b[1;31mAttributeError\u001b[0m                            Traceback (most recent call last)",
      "Cell \u001b[1;32mIn[2], line 1\u001b[0m\n\u001b[1;32m----> 1\u001b[0m data \u001b[38;5;241m=\u001b[39m \u001b[43mopen_laz\u001b[49m\u001b[43m(\u001b[49m\u001b[38;5;124;43m'\u001b[39;49m\u001b[38;5;124;43msandbox/data_grille/LHD_FXX_0188_6861_PTS_C_LAMB93_IGN69.copc.laz\u001b[39;49m\u001b[38;5;124;43m'\u001b[39;49m\u001b[43m)\u001b[49m\n\u001b[0;32m      2\u001b[0m data\n",
      "File \u001b[1;32me:\\shared\\projects\\France-3D\\download_lidar_ign_tiles_db.py:40\u001b[0m, in \u001b[0;36mopen_laz\u001b[1;34m(filepath_in)\u001b[0m\n\u001b[0;32m     38\u001b[0m \u001b[38;5;28;01mdef\u001b[39;00m\u001b[38;5;250m \u001b[39m\u001b[38;5;21mopen_laz\u001b[39m(filepath_in):\n\u001b[0;32m     39\u001b[0m     \u001b[38;5;28;01mwith\u001b[39;00m laspy\u001b[38;5;241m.\u001b[39mopen(filepath_in, \u001b[38;5;124m'\u001b[39m\u001b[38;5;124mr\u001b[39m\u001b[38;5;124m'\u001b[39m) \u001b[38;5;28;01mas\u001b[39;00m las:\n\u001b[1;32m---> 40\u001b[0m         \u001b[38;5;28;01mreturn\u001b[39;00m \u001b[43mlas\u001b[49m\u001b[38;5;241;43m.\u001b[39;49m\u001b[43mread\u001b[49m\u001b[43m(\u001b[49m\u001b[43m)\u001b[49m\u001b[38;5;241;43m.\u001b[39;49m\u001b[43mpoint\u001b[49m\n",
      "File \u001b[1;32me:\\shared\\projects\\France-3D\\.venv\\Lib\\site-packages\\laspy\\lasdata.py:378\u001b[0m, in \u001b[0;36mLasData.__getattr__\u001b[1;34m(self, item)\u001b[0m\n\u001b[0;32m    376\u001b[0m     \u001b[38;5;28;01mreturn\u001b[39;00m \u001b[38;5;28mself\u001b[39m\u001b[38;5;241m.\u001b[39mpoints[item]\n\u001b[0;32m    377\u001b[0m \u001b[38;5;28;01mexcept\u001b[39;00m \u001b[38;5;167;01mValueError\u001b[39;00m:\n\u001b[1;32m--> 378\u001b[0m     \u001b[38;5;28;01mraise\u001b[39;00m \u001b[38;5;167;01mAttributeError\u001b[39;00m(\n\u001b[0;32m    379\u001b[0m         \u001b[38;5;124mf\u001b[39m\u001b[38;5;124m\"\u001b[39m\u001b[38;5;132;01m{\u001b[39;00m\u001b[38;5;28mself\u001b[39m\u001b[38;5;241m.\u001b[39m\u001b[38;5;18m__class__\u001b[39m\u001b[38;5;241m.\u001b[39m\u001b[38;5;18m__name__\u001b[39m\u001b[38;5;132;01m}\u001b[39;00m\u001b[38;5;124m object has no attribute \u001b[39m\u001b[38;5;124m'\u001b[39m\u001b[38;5;132;01m{\u001b[39;00mitem\u001b[38;5;132;01m}\u001b[39;00m\u001b[38;5;124m'\u001b[39m\u001b[38;5;124m\"\u001b[39m\n\u001b[0;32m    380\u001b[0m     ) \u001b[38;5;28;01mfrom\u001b[39;00m\u001b[38;5;250m \u001b[39m\u001b[38;5;28;01mNone\u001b[39;00m\n",
      "\u001b[1;31mAttributeError\u001b[0m: LasData object has no attribute 'point'"
     ]
    }
   ],
   "source": [
    "data = open_laz('sandbox/data_grille/LHD_FXX_0188_6861_PTS_C_LAMB93_IGN69.copc.laz')\n",
    "data"
   ]
  },
  {
   "cell_type": "code",
   "execution_count": 6,
   "metadata": {},
   "outputs": [
    {
     "data": {
      "text/plain": [
       "numpy.ndarray"
      ]
     },
     "execution_count": 6,
     "metadata": {},
     "output_type": "execute_result"
    }
   ],
   "source": []
  }
 ],
 "metadata": {
  "kernelspec": {
   "display_name": ".venv",
   "language": "python",
   "name": "python3"
  },
  "language_info": {
   "codemirror_mode": {
    "name": "ipython",
    "version": 3
   },
   "file_extension": ".py",
   "mimetype": "text/x-python",
   "name": "python",
   "nbconvert_exporter": "python",
   "pygments_lexer": "ipython3",
   "version": "3.12.8"
  }
 },
 "nbformat": 4,
 "nbformat_minor": 2
}
